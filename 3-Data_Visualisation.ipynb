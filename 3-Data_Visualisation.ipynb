{
 "cells": [
  {
   "cell_type": "code",
   "execution_count": null,
   "metadata": {},
   "outputs": [],
   "source": [
    "import numpy as np\n",
    "import pandas as pd\n",
    "import matplotlib\n",
    "import matplotlib.pyplot as plt\n",
    "import sys\n",
    "import time\n",
    "import logging\n",
    "import watchdog.observers \n",
    "import watchdog.events \n",
    "import os\n",
    "import threading"
   ]
  },
  {
   "cell_type": "code",
   "execution_count": null,
   "metadata": {},
   "outputs": [],
   "source": [
    "dataframes = []\n",
    "processed_files = set()\n",
    "processing_event = threading.Event()"
   ]
  },
  {
   "cell_type": "code",
   "execution_count": null,
   "metadata": {},
   "outputs": [],
   "source": [
    "class Handler(watchdog.events.PatternMatchingEventHandler):\n",
    "    def __init__(self):\n",
    "\n",
    "        # Set the patterns for PatternMatchingEventHandler\n",
    "        watchdog.events.PatternMatchingEventHandler.__init__(self, patterns=['*.csv'],\n",
    "                                                             ignore_directories=True, case_sensitive=False)\n",
    " \n",
    "    def on_created(self, event):\n",
    "        print(\"Watchdog received created event - % s.\" % event.src_path)\n",
    "        filename = os.path.basename(event.src_path).split('/')[-1]\n",
    "        return filename\n",
    "        # Event is created, you can process it now\n",
    "            # Check if file already processed\n",
    "\n",
    "\n",
    "\n",
    "    def on_modified(self, event):\n",
    "        filename = self.on_created(event)\n",
    "        print(\"Watchdog received modified event - % s.\" % event.src_path)\n",
    "        if filename not in processed_files:\n",
    "            processed_files.add(filename)\n",
    "            historicalSize = -1\n",
    "            while (historicalSize != os.path.getsize(filename)):\n",
    "                historicalSize = os.path.getsize(filename)\n",
    "                time.sleep(1)\n",
    "            print(\"file copy has now finished\")\n",
    "            global Created\n",
    "            Created = True\n",
    "            file_data = pd.read_csv(filename)\n",
    "            file_df = pd.DataFrame(file_data)\n",
    "            dataframes.append([file_df, filename[:-4]])\n",
    "            return Created # Only return filename if not processed\n",
    "        else:\n",
    "            print(f\"Skipping duplicate file: {filename}\")\n",
    "            return None\n",
    "\n",
    "\n",
    "if __name__=='__main__':\n",
    "    src_path = r\"/home/jasmine/encryption/cryptlibs\"\n",
    "\n",
    "    Created = False\n",
    "    event_handler = Handler()\n",
    "\n",
    "    observer = watchdog.observers.Observer()\n",
    "    observer.schedule(event_handler, path=src_path, recursive=True)\n",
    "    observer.start()\n",
    "    try:\n",
    "        while not Created:\n",
    "            pass\n",
    "    except KeyboardInterrupt:\n",
    "        observer.stop()\n",
    "    finally:\n",
    "        observer.stop()\n",
    "        observer.join()\n"
   ]
  },
  {
   "cell_type": "code",
   "execution_count": null,
   "metadata": {},
   "outputs": [],
   "source": [
    "print(len(dataframes))"
   ]
  },
  {
   "cell_type": "code",
   "execution_count": null,
   "metadata": {},
   "outputs": [],
   "source": [
    "processed_files.clear()"
   ]
  },
  {
   "cell_type": "code",
   "execution_count": null,
   "metadata": {},
   "outputs": [],
   "source": [
    "length = {\" Data length\":[]}\n",
    "length[\" Data length\"].append(14)\n",
    "for i in range(250, 450, 10):\n",
    "    length[\" Data length\"].append(i)\n",
    "\n",
    "data_length = pd.DataFrame(length)\n"
   ]
  },
  {
   "cell_type": "code",
   "execution_count": null,
   "metadata": {},
   "outputs": [],
   "source": [
    "data_length.head()"
   ]
  },
  {
   "cell_type": "code",
   "execution_count": null,
   "metadata": {},
   "outputs": [],
   "source": [
    "N = len(dataframes)\n",
    "for i, dataframe in enumerate(dataframes):\n",
    "    dataframes[i][0] = dataframes[i][0].rename({' Run Time': 'Run Time' + str(i), ' CPU cycles': 'CPU cycles'+str(i),  ' Throughput': 'Throughput'+str(i)}, axis=1)\n",
    "    "
   ]
  },
  {
   "cell_type": "code",
   "execution_count": null,
   "metadata": {},
   "outputs": [],
   "source": [
    "runtimes = data_length\n",
    "cpu_cycles = data_length\n",
    "throughputs = data_length\n",
    "\n",
    "for i, df_set in enumerate(dataframes):\n",
    "    df = df_set[0]\n",
    "    runtimes = pd.concat([runtimes, df.iloc[:, 2]], axis=1).reindex(runtimes.index)\n",
    "    cpu_cycles = pd.concat([cpu_cycles, df.iloc[:, 1]], axis=1).reindex(cpu_cycles.index)\n",
    "    throughputs = pd.concat([throughputs, df.iloc[:, 3]], axis=1).reindex(throughputs.index)\n",
    "    "
   ]
  },
  {
   "cell_type": "code",
   "execution_count": null,
   "metadata": {},
   "outputs": [],
   "source": [
    "categorised_dfs = [runtimes, cpu_cycles, throughputs]\n",
    "for i, df in enumerate(categorised_dfs):\n",
    "    categorised_dfs[i] = categorised_dfs[i].iloc[1:]\n",
    "runtimes, cpu_cycles, throughputs = categorised_dfs"
   ]
  },
  {
   "cell_type": "code",
   "execution_count": null,
   "metadata": {},
   "outputs": [],
   "source": [
    "runtimes.head()"
   ]
  },
  {
   "cell_type": "code",
   "execution_count": null,
   "metadata": {},
   "outputs": [],
   "source": [
    "for i, dataframe in enumerate(dataframes):\n",
    "    plt.plot(runtimes.iloc[:,0],runtimes.iloc[:,i+1], label = str(dataframes[i][1]))\n",
    "#plt.plot(runtimes.iloc[:,0], runtimes.iloc[:,2], color = 'red', label = \"AES-192\")\n",
    "#plt.plot(runtimes.iloc[:,0], runtimes.iloc[:,3], color = 'blue', label = \"AES-256\")\n",
    "#plt.plot(runtimes.iloc[:,0], runtimes.iloc[:,4], color = 'purple', label = \"WolfSSL AES-256\")\n",
    "#plt.plot(runtimes.iloc[:,0], runtimes.iloc[:,5], color = 'black', label = \"WolfSSL AES-192\")\n",
    "\n",
    "plt.xlabel(\"Data length/bytes\")\n",
    "plt.ylabel(\"Runtime/ms\")\n",
    "plt.title('RSA 3072 OAEP Runtimes')\n",
    "\n",
    "plt.legend()\n",
    "\n",
    "plt.show()"
   ]
  },
  {
   "cell_type": "code",
   "execution_count": null,
   "metadata": {},
   "outputs": [],
   "source": [
    "for i, dataframe in enumerate(dataframes):\n",
    "    plt.plot(cpu_cycles.iloc[:,0],cpu_cycles.iloc[:,i+1], label = str(dataframes[i][1]))\n",
    "\n",
    "plt.xlabel(\"Data length/bytes\")\n",
    "plt.ylabel(\"CPU Cycles/(MB/s)\")\n",
    "plt.title('RSA 3072 OAEP CPU Cycles')\n",
    "\n",
    "plt.legend()\n",
    "\n",
    "plt.show()"
   ]
  },
  {
   "cell_type": "code",
   "execution_count": null,
   "metadata": {},
   "outputs": [],
   "source": [
    "for i, dataframe in enumerate(dataframes):\n",
    "    plt.plot(throughputs.iloc[:,0],throughputs.iloc[:,i+1], label = str(dataframes[i][1]))\n",
    "\n",
    "#plt.plot(throughputs.iloc[:,0],throughputs.iloc[:,1], color = 'green', label = \"AES-128\")\n",
    "#plt.plot(throughputs.iloc[:,0],throughputs.iloc[:,2], color = 'red', label = \"AES-192\")\n",
    "#plt.plot(throughputs.iloc[:,0],throughputs.iloc[:,3], color = 'blue', label = \"AES-256\")\n",
    "#plt.plot(throughputs.iloc[:,0], throughputs.iloc[:,4], color = 'purple', label = \"WolfSSL AES-256\")\n",
    "#plt.plot(throughputs.iloc[:,0], throughputs.iloc[:,5], color = 'black', label = \"WolfSSL AES-192\")\n",
    "plt.xlabel(\"Data length/bytes\")\n",
    "plt.ylabel(\"Throughput/(B/s)\")\n",
    "plt.title('RSA 3072 OAEP Throughput')\n",
    "\n",
    "plt.legend()\n",
    "\n",
    "plt.show()"
   ]
  }
 ],
 "metadata": {
  "kernelspec": {
   "display_name": "env",
   "language": "python",
   "name": "python3"
  },
  "language_info": {
   "codemirror_mode": {
    "name": "ipython",
    "version": 3
   },
   "file_extension": ".py",
   "mimetype": "text/x-python",
   "name": "python",
   "nbconvert_exporter": "python",
   "pygments_lexer": "ipython3",
   "version": "3.8.10"
  }
 },
 "nbformat": 4,
 "nbformat_minor": 2
}
